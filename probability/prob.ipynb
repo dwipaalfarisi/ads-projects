{
 "cells": [
  {
   "cell_type": "markdown",
   "metadata": {},
   "source": [
    "# Project for Pacmann Probability Course"
   ]
  },
  {
   "cell_type": "markdown",
   "metadata": {},
   "source": [
    "## Import Libraries"
   ]
  },
  {
   "cell_type": "code",
   "execution_count": 1,
   "metadata": {},
   "outputs": [],
   "source": [
    "import matplotlib\n",
    "import pandas as pd\n",
    "import numpy as np\n",
    "import matplotlib.pyplot as plt\n",
    "import matplotlib.ticker as ticker\n",
    "%matplotlib inline\n",
    "from math import factorial\n",
    "from functuser import print_format\n",
    "from numerize.numerize import numerize"
   ]
  },
  {
   "cell_type": "markdown",
   "metadata": {},
   "source": [
    "## Import Data"
   ]
  },
  {
   "cell_type": "code",
   "execution_count": 2,
   "metadata": {},
   "outputs": [
    {
     "data": {
      "text/html": [
       "<div>\n",
       "<style scoped>\n",
       "    .dataframe tbody tr th:only-of-type {\n",
       "        vertical-align: middle;\n",
       "    }\n",
       "\n",
       "    .dataframe tbody tr th {\n",
       "        vertical-align: top;\n",
       "    }\n",
       "\n",
       "    .dataframe thead th {\n",
       "        text-align: right;\n",
       "    }\n",
       "</style>\n",
       "<table border=\"1\" class=\"dataframe\">\n",
       "  <thead>\n",
       "    <tr style=\"text-align: right;\">\n",
       "      <th></th>\n",
       "      <th>age</th>\n",
       "      <th>sex</th>\n",
       "      <th>bmi</th>\n",
       "      <th>children</th>\n",
       "      <th>smoker</th>\n",
       "      <th>region</th>\n",
       "      <th>charges</th>\n",
       "    </tr>\n",
       "  </thead>\n",
       "  <tbody>\n",
       "    <tr>\n",
       "      <th>0</th>\n",
       "      <td>19</td>\n",
       "      <td>female</td>\n",
       "      <td>27.900</td>\n",
       "      <td>0</td>\n",
       "      <td>yes</td>\n",
       "      <td>southwest</td>\n",
       "      <td>16884.92400</td>\n",
       "    </tr>\n",
       "    <tr>\n",
       "      <th>1</th>\n",
       "      <td>18</td>\n",
       "      <td>male</td>\n",
       "      <td>33.770</td>\n",
       "      <td>1</td>\n",
       "      <td>no</td>\n",
       "      <td>southeast</td>\n",
       "      <td>1725.55230</td>\n",
       "    </tr>\n",
       "    <tr>\n",
       "      <th>2</th>\n",
       "      <td>28</td>\n",
       "      <td>male</td>\n",
       "      <td>33.000</td>\n",
       "      <td>3</td>\n",
       "      <td>no</td>\n",
       "      <td>southeast</td>\n",
       "      <td>4449.46200</td>\n",
       "    </tr>\n",
       "    <tr>\n",
       "      <th>3</th>\n",
       "      <td>33</td>\n",
       "      <td>male</td>\n",
       "      <td>22.705</td>\n",
       "      <td>0</td>\n",
       "      <td>no</td>\n",
       "      <td>northwest</td>\n",
       "      <td>21984.47061</td>\n",
       "    </tr>\n",
       "    <tr>\n",
       "      <th>4</th>\n",
       "      <td>32</td>\n",
       "      <td>male</td>\n",
       "      <td>28.880</td>\n",
       "      <td>0</td>\n",
       "      <td>no</td>\n",
       "      <td>northwest</td>\n",
       "      <td>3866.85520</td>\n",
       "    </tr>\n",
       "  </tbody>\n",
       "</table>\n",
       "</div>"
      ],
      "text/plain": [
       "   age     sex     bmi  children smoker     region      charges\n",
       "0   19  female  27.900         0    yes  southwest  16884.92400\n",
       "1   18    male  33.770         1     no  southeast   1725.55230\n",
       "2   28    male  33.000         3     no  southeast   4449.46200\n",
       "3   33    male  22.705         0     no  northwest  21984.47061\n",
       "4   32    male  28.880         0     no  northwest   3866.85520"
      ]
     },
     "execution_count": 2,
     "metadata": {},
     "output_type": "execute_result"
    }
   ],
   "source": [
    "insurance_data = pd.read_csv('./data/insurance.csv')\n",
    "insurance_data.head()"
   ]
  },
  {
   "cell_type": "markdown",
   "metadata": {},
   "source": [
    "## Descriptive Statistics Analysis"
   ]
  },
  {
   "cell_type": "markdown",
   "metadata": {},
   "source": [
    "### Customer Segment by Age"
   ]
  },
  {
   "cell_type": "code",
   "execution_count": 3,
   "metadata": {},
   "outputs": [
    {
     "name": "stdout",
     "output_type": "stream",
     "text": [
      "39.21\n"
     ]
    }
   ],
   "source": [
    "# Mean\n",
    "age_mean = insurance_data['age'].mean()\n",
    "print_format(age_mean, 2)"
   ]
  },
  {
   "cell_type": "markdown",
   "metadata": {},
   "source": [
    "### Smoker Age by Sex"
   ]
  },
  {
   "cell_type": "code",
   "execution_count": 4,
   "metadata": {},
   "outputs": [],
   "source": [
    "smoker = insurance_data.loc[insurance_data['smoker'] == 'yes']"
   ]
  },
  {
   "cell_type": "code",
   "execution_count": 5,
   "metadata": {},
   "outputs": [
    {
     "data": {
      "image/png": "[encoded data removed]",
      "text/plain": [
       "<Figure size 432x288 with 1 Axes>"
      ]
     },
     "metadata": {
      "needs_background": "light"
     },
     "output_type": "display_data"
    }
   ],
   "source": [
    "smoker['age'].hist();"
   ]
  },
  {
   "cell_type": "code",
   "execution_count": 6,
   "metadata": {},
   "outputs": [
    {
     "data": {
      "image/png": "[encoded data removed]",
      "text/plain": [
       "<Figure size 432x288 with 1 Axes>"
      ]
     },
     "metadata": {
      "needs_background": "light"
     },
     "output_type": "display_data"
    }
   ],
   "source": [
    "(smoker[smoker['sex'] == 'male'])['age'].hist();"
   ]
  },
  {
   "cell_type": "code",
   "execution_count": 7,
   "metadata": {},
   "outputs": [
    {
     "data": {
      "image/png": "[encoded data removed]",
      "text/plain": [
       "<Figure size 432x288 with 1 Axes>"
      ]
     },
     "metadata": {
      "needs_background": "light"
     },
     "output_type": "display_data"
    }
   ],
   "source": [
    "(smoker[smoker['sex'] == 'female'])['age'].hist();"
   ]
  },
  {
   "cell_type": "markdown",
   "metadata": {},
   "source": [
    "#### Male"
   ]
  },
  {
   "cell_type": "code",
   "execution_count": 8,
   "metadata": {},
   "outputs": [
    {
     "data": {
      "image/png": "[encoded data removed]",
      "text/plain": [
       "<Figure size 432x288 with 1 Axes>"
      ]
     },
     "metadata": {
      "needs_background": "light"
     },
     "output_type": "display_data"
    }
   ],
   "source": [
    "male_smoker_age = (insurance_data.loc[(insurance_data['smoker'] == 'yes')&(insurance_data['sex'] == 'male')])\n",
    "male_smoker_age.boxplot(column='age');"
   ]
  },
  {
   "cell_type": "markdown",
   "metadata": {},
   "source": [
    "#### Female"
   ]
  },
  {
   "cell_type": "code",
   "execution_count": 9,
   "metadata": {},
   "outputs": [
    {
     "data": {
      "image/png": "[encoded data removed]",
      "text/plain": [
       "<Figure size 432x288 with 1 Axes>"
      ]
     },
     "metadata": {
      "needs_background": "light"
     },
     "output_type": "display_data"
    }
   ],
   "source": [
    "female_smoker_age = (insurance_data.loc[(insurance_data['smoker'] == 'yes')&(insurance_data['sex'] == 'female')])\n",
    "female_smoker_age.boxplot(column='age');"
   ]
  },
  {
   "cell_type": "code",
   "execution_count": 10,
   "metadata": {},
   "outputs": [
    {
     "data": {
      "image/png": "[encoded data removed]",
      "text/plain": [
       "<Figure size 864x504 with 2 Axes>"
      ]
     },
     "metadata": {
      "needs_background": "light"
     },
     "output_type": "display_data"
    }
   ],
   "source": [
    "fig, (ax1, ax2) = plt.subplots(1, 2, figsize=(12, 7), sharey=True,sharex=True)\n",
    "male_smoker = smoker[smoker['sex'] == 'male']  \n",
    "female_smoker = smoker[smoker['sex'] == 'female']  \n",
    "\n",
    "ax1.boxplot(male_smoker['age'])\n",
    "ax2.boxplot(female_smoker['age'])\n",
    "\n",
    "ax1.grid(visible=True)\n",
    "ax2.grid(visible=True)\n",
    "\n",
    "ax1.set(title=\"Male\")\n",
    "ax2.set(title=\"Female\")\n",
    "plt.suptitle(\"Age Distribution by Sex\", fontsize=16)\n",
    "ax1.title.set_size(12)\n",
    "ax2.title.set_size(12)\n",
    "\n",
    "tick_spacing = 5\n",
    "\n",
    "ax1.yaxis.set_major_locator(ticker.MultipleLocator(tick_spacing))\n",
    "ax2.yaxis.set_major_locator(ticker.MultipleLocator(tick_spacing))\n",
    "\n",
    "plt.show();"
   ]
  },
  {
   "cell_type": "code",
   "execution_count": 11,
   "metadata": {},
   "outputs": [
    {
     "data": {
      "text/plain": [
       "14      27\n",
       "19      30\n",
       "29      31\n",
       "30      22\n",
       "34      28\n",
       "        ..\n",
       "1301    62\n",
       "1303    43\n",
       "1304    42\n",
       "1307    32\n",
       "1321    62\n",
       "Name: age, Length: 159, dtype: int64"
      ]
     },
     "execution_count": 11,
     "metadata": {},
     "output_type": "execute_result"
    }
   ],
   "source": [
    "smoker[smoker['sex'] == 'male']['age']"
   ]
  },
  {
   "cell_type": "markdown",
   "metadata": {},
   "source": [
    "### BMI"
   ]
  },
  {
   "cell_type": "markdown",
   "metadata": {},
   "source": [
    "#### Smoker BMI Mean "
   ]
  },
  {
   "cell_type": "code",
   "execution_count": 12,
   "metadata": {},
   "outputs": [
    {
     "name": "stdout",
     "output_type": "stream",
     "text": [
      "30.708\n"
     ]
    }
   ],
   "source": [
    "smokerBMI_mean = (\n",
    "    insurance_data\n",
    "    .groupby(['smoker'])\n",
    "    .mean()\n",
    "    ['bmi'] #\n",
    "    )[1] # 1 = yes, 0 = not\n",
    "print_format(smokerBMI_mean, 3)"
   ]
  },
  {
   "cell_type": "markdown",
   "metadata": {},
   "source": [
    "#### Non-smoker BMI Mean"
   ]
  },
  {
   "cell_type": "code",
   "execution_count": 13,
   "metadata": {},
   "outputs": [
    {
     "name": "stdout",
     "output_type": "stream",
     "text": [
      "30.652\n"
     ]
    }
   ],
   "source": [
    "no_smokerBMI_mean = (\n",
    "    insurance_data\n",
    "    .groupby(['smoker'])\n",
    "    .mean()\n",
    "    ['bmi'] #\n",
    "    )[0] # 1 = yes, 0 = not\n",
    "print_format(no_smokerBMI_mean, 3)"
   ]
  },
  {
   "cell_type": "markdown",
   "metadata": {},
   "source": [
    "### Variance of Charges"
   ]
  },
  {
   "cell_type": "markdown",
   "metadata": {},
   "source": [
    "### Smoker"
   ]
  },
  {
   "cell_type": "code",
   "execution_count": 14,
   "metadata": {},
   "outputs": [
    {
     "name": "stdout",
     "output_type": "stream",
     "text": [
      "133207311.206\n"
     ]
    }
   ],
   "source": [
    "smoker_charges_var = (\n",
    "    insurance_data\n",
    "    .loc[insurance_data['smoker'] == 'yes']\n",
    "    ['charges']\n",
    "    .var()\n",
    "    )\n",
    "print_format(smoker_charges_var, 3) "
   ]
  },
  {
   "cell_type": "code",
   "execution_count": 15,
   "metadata": {},
   "outputs": [
    {
     "name": "stdout",
     "output_type": "stream",
     "text": [
      "133.21M\n"
     ]
    }
   ],
   "source": [
    "print(numerize(smoker_charges_var))"
   ]
  },
  {
   "cell_type": "markdown",
   "metadata": {},
   "source": [
    "#### Non-smoker Variance"
   ]
  },
  {
   "cell_type": "code",
   "execution_count": 16,
   "metadata": {},
   "outputs": [
    {
     "name": "stdout",
     "output_type": "stream",
     "text": [
      "35925420.496\n"
     ]
    }
   ],
   "source": [
    "# non smoker\n",
    "non_smoker_charges_var = (\n",
    "    insurance_data\n",
    "    .loc[insurance_data['smoker'] == 'no']\n",
    "    ['charges']\n",
    "    .var()\n",
    ")\n",
    "print_format(non_smoker_charges_var, 3)"
   ]
  },
  {
   "cell_type": "code",
   "execution_count": 17,
   "metadata": {},
   "outputs": [
    {
     "name": "stdout",
     "output_type": "stream",
     "text": [
      "35.93M\n"
     ]
    }
   ],
   "source": [
    "print(numerize(non_smoker_charges_var))"
   ]
  },
  {
   "cell_type": "markdown",
   "metadata": {},
   "source": [
    "### Charges by Sex and Age "
   ]
  },
  {
   "cell_type": "code",
   "execution_count": 23,
   "metadata": {},
   "outputs": [],
   "source": [
    "# male and female smoker are already present\n",
    "male_no_smoker = insurance_data.loc[(insurance_data['smoker'] == 'no')&(insurance_data['sex'] == 'male')]\n",
    "female_no_smoker = insurance_data.loc[(insurance_data['smoker'] == 'no')&(insurance_data['sex'] == 'female')]"
   ]
  },
  {
   "cell_type": "code",
   "execution_count": 28,
   "metadata": {},
   "outputs": [
    {
     "data": {
      "image/png": "[encoded data removed]",
      "text/plain": [
       "<Figure size 864x504 with 2 Axes>"
      ]
     },
     "metadata": {
      "needs_background": "light"
     },
     "output_type": "display_data"
    }
   ],
   "source": [
    "# plot\n",
    "fig, (ax1, ax2) = plt.subplots(1, 2, figsize=(12, 7), sharey=True,sharex=True)\n",
    "\n",
    "# cat: sex, dimension: age, charges\n",
    "ax1.scatter(male_smoker['age'], male_smoker['charges'], c='red', label='Male Smoker')\n",
    "ax2.scatter(female_smoker['age'], female_smoker['charges'], c='orange', label='Female Smoker')\n",
    "ax1.scatter(male_no_smoker['age'], male_no_smoker['charges'], c='blue', label='Male No Smoker')\n",
    "ax2.scatter(female_no_smoker['age'], female_no_smoker['charges'], c='green', label='Female No Smoker')\n",
    "\n",
    "tick_spacing = 5\n",
    "\n",
    "ax1.legend()\n",
    "ax2.legend()\n",
    "\n",
    "ax1.xaxis.set_major_locator(ticker.MultipleLocator(tick_spacing))\n",
    "ax2.xaxis.set_major_locator(ticker.MultipleLocator(tick_spacing))\n",
    "\n",
    "plt.show();"
   ]
  },
  {
   "cell_type": "markdown",
   "metadata": {},
   "source": [
    "### Charges by BMI and Sex for Age > 5"
   ]
  },
  {
   "cell_type": "code",
   "execution_count": 30,
   "metadata": {},
   "outputs": [],
   "source": [
    "male_smoker_bmi25 = male_smoker.loc[male_smoker['bmi'] > 25]\n",
    "male_no_smoker_bmi25 = male_no_smoker.loc[male_no_smoker['bmi'] > 25]\n",
    "female_no_smoker_bmi25 = female_no_smoker.loc[female_no_smoker['bmi'] > 25]\n",
    "female_smoker_bmi25 = female_no_smoker.loc[female_no_smoker['bmi'] > 25]"
   ]
  },
  {
   "cell_type": "code",
   "execution_count": 39,
   "metadata": {},
   "outputs": [
    {
     "data": {
      "image/png": "[encoded data removed]",
      "text/plain": [
       "<Figure size 864x504 with 2 Axes>"
      ]
     },
     "metadata": {
      "needs_background": "light"
     },
     "output_type": "display_data"
    }
   ],
   "source": [
    "# plot\n",
    "fig, (ax1, ax2) = plt.subplots(1, 2, figsize=(12, 7), sharey=True,sharex=True)\n",
    "\n",
    "# cat: sex, dimension: age, charges\n",
    "ax1.scatter(male_smoker_bmi25['age'], male_smoker_bmi25['charges'], c='red', label='Male Smoker')\n",
    "ax2.scatter(female_smoker_bmi25['age'], female_smoker_bmi25['charges'], c='orange', label='Female Smoker')\n",
    "ax1.scatter(male_no_smoker_bmi25['age'], male_no_smoker_bmi25['charges'], c='blue', label='Male No Smoker')\n",
    "ax2.scatter(female_no_smoker_bmi25['age'], female_no_smoker_bmi25['charges'], c='green', label='Female No Smoker', alpha=0.2)\n",
    "\n",
    "tick_spacing = 5\n",
    "\n",
    "ax1.legend()\n",
    "ax2.legend()\n",
    "\n",
    "ax1.xaxis.set_major_locator(ticker.MultipleLocator(tick_spacing))\n",
    "ax2.xaxis.set_major_locator(ticker.MultipleLocator(tick_spacing))\n",
    "\n",
    "plt.show();"
   ]
  },
  {
   "cell_type": "markdown",
   "metadata": {},
   "source": [
    "### Comparing BMI by Sex"
   ]
  },
  {
   "cell_type": "code",
   "execution_count": 48,
   "metadata": {},
   "outputs": [],
   "source": [
    "male1 = insurance_data.loc[insurance_data['sex'] == 'male']\n",
    "female1 = insurance_data.loc[insurance_data['sex'] == 'female']"
   ]
  },
  {
   "cell_type": "code",
   "execution_count": 68,
   "metadata": {},
   "outputs": [
    {
     "data": {
      "image/png": "[encoded data removed]",
      "text/plain": [
       "<Figure size 864x360 with 2 Axes>"
      ]
     },
     "metadata": {
      "needs_background": "light"
     },
     "output_type": "display_data"
    }
   ],
   "source": [
    "fig, (ax1, ax2) = plt.subplots(1, 2, figsize=(12, 5), sharex=True, sharey=True)\n",
    "ax1.hist(male1['bmi'], bins=25)\n",
    "ax2.hist(female1['bmi'], bins=25)\n",
    "\n",
    "ax1.set(title='Male BMI Distribution')\n",
    "ax2.set(title='Female BMI Distribution')\n",
    "\n",
    "plt.show();"
   ]
  },
  {
   "cell_type": "markdown",
   "metadata": {},
   "source": [
    "### Comparing BMI by Smoker Status"
   ]
  },
  {
   "cell_type": "code",
   "execution_count": 70,
   "metadata": {},
   "outputs": [],
   "source": [
    "no_smoker = insurance_data.loc[insurance_data['smoker'] == 'no']"
   ]
  },
  {
   "cell_type": "code",
   "execution_count": 72,
   "metadata": {},
   "outputs": [
    {
     "data": {
      "image/png": "[encoded data removed]",
      "text/plain": [
       "<Figure size 864x360 with 2 Axes>"
      ]
     },
     "metadata": {
      "needs_background": "light"
     },
     "output_type": "display_data"
    }
   ],
   "source": [
    "fig, (ax1, ax2) = plt.subplots(1, 2, figsize=(12, 5), sharex=True, sharey=True)\n",
    "ax1.hist(smoker['bmi'], bins=20)\n",
    "ax2.hist(no_smoker['bmi'], bins=20)\n",
    "\n",
    "ax1.set(title='Smoker BMI Distribution')\n",
    "ax2.set(title='Non-smoker BMI Distribution')\n",
    "\n",
    "plt.show();"
   ]
  },
  {
   "cell_type": "markdown",
   "metadata": {},
   "source": [
    "## Categorical Variable Analysis (PMF)"
   ]
  },
  {
   "cell_type": "code",
   "execution_count": null,
   "metadata": {},
   "outputs": [],
   "source": []
  }
 ],
 "metadata": {
  "kernelspec": {
   "display_name": "dataanalysis",
   "language": "python",
   "name": "dataanalysis"
  },
  "language_info": {
   "codemirror_mode": {
    "name": "ipython",
    "version": 3
   },
   "file_extension": ".py",
   "mimetype": "text/x-python",
   "name": "python",
   "nbconvert_exporter": "python",
   "pygments_lexer": "ipython3",
   "version": "3.10.5"
  },
  "orig_nbformat": 4,
  "vscode": {
   "interpreter": {
    "hash": "08822cb23776a94a65c84af33ca109a1651b143f8e4093732fe18297c7b83901"
   }
  }
 },
 "nbformat": 4,
 "nbformat_minor": 2
}
