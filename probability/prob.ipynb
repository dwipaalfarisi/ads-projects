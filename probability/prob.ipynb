{
 "cells": [
  {
   "cell_type": "code",
   "execution_count": null,
   "metadata": {},
   "outputs": [],
   "source": []
  }
 ],
 "metadata": {
  "kernelspec": {
   "display_name": "dataanalysis",
   "language": "python",
   "name": "dataanalysis"
  },
  "language_info": {
   "name": "python",
   "version": "3.10.5"
  },
  "orig_nbformat": 4,
  "vscode": {
   "interpreter": {
    "hash": "08822cb23776a94a65c84af33ca109a1651b143f8e4093732fe18297c7b83901"
   }
  }
 },
 "nbformat": 4,
 "nbformat_minor": 2
}
